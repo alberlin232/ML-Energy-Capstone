{
 "cells": [
  {
   "cell_type": "code",
   "execution_count": null,
   "metadata": {},
   "outputs": [],
   "source": [
    "import glob\n",
    "import os\n",
    "import pandas as pd\n",
    "import numpy as np\n",
    "import matplotlib.pyplot as plt\n",
    "import seaborn as sns\n",
    "from statsmodels.tsa.api import VAR\n",
    "from datetime import datetime\n",
    "from meteostat import Stations, Daily\n"
   ]
  },
  {
   "cell_type": "code",
   "execution_count": null,
   "metadata": {},
   "outputs": [],
   "source": [
    "stations = Stations()\n",
    "stations = stations.nearby(28.7883, -97.01)\n",
    "station = stations.fetch(1)\n",
    "print(station)"
   ]
  },
  {
   "cell_type": "code",
   "execution_count": null,
   "metadata": {},
   "outputs": [],
   "source": [
    "# Set time period\n",
    "start = datetime(2019, 7, 1)\n",
    "end = datetime(2019, 10, 30)\n",
    "\n",
    "# Get daily data\n",
    "temp = Daily('KPKV0', start, end)\n",
    "temp = temp.fetch()"
   ]
  },
  {
   "cell_type": "code",
   "execution_count": null,
   "metadata": {},
   "outputs": [],
   "source": [
    "temp"
   ]
  },
  {
   "cell_type": "code",
   "execution_count": null,
   "metadata": {},
   "outputs": [],
   "source": [
    "# setting the path for joining multiple files\n",
    "files = os.path.join(\"../data/epa/\", \"DLY*.csv\")\n",
    "\n",
    "# list of merged files returned\n",
    "files = glob.glob(files)\n",
    "\n",
    "print(\"Resultant CSV after joining all CSV files at a particular location...\");\n",
    "\n",
    "# joining files with concat and read_csv\n",
    "df = pd.concat(map(pd.read_csv, files), ignore_index=True)"
   ]
  },
  {
   "cell_type": "code",
   "execution_count": null,
   "metadata": {},
   "outputs": [],
   "source": [
    "def findMaxContData(data: pd.DataFrame, col: str):\n",
    "    max = -1\n",
    "    max_idx = -1\n",
    "    for i in range(len(data)):\n",
    "        if data[col].iloc[i] > 0:\n",
    "            for j in range(i, len(data)):\n",
    "                if (not data[col].iloc[j] > 0) or data[\"FACILITY_NAME\"].iloc[j] != data[\"FACILITY_NAME\"].iloc[i] or data[\"UNIT_ID\"].iloc[j] != data[\"UNIT_ID\"].iloc[i]:\n",
    "                    if j - i > max:\n",
    "                        max = j - i\n",
    "                        max_idx = i\n",
    "                    break\n",
    "    return (max_idx, max_idx + max)"
   ]
  },
  {
   "cell_type": "code",
   "execution_count": null,
   "metadata": {},
   "outputs": [],
   "source": [
    "# findMaxContData(df, \"GLOAD (MWh)\")"
   ]
  },
  {
   "cell_type": "code",
   "execution_count": null,
   "metadata": {},
   "outputs": [],
   "source": [
    "data = df[736:828]\n",
    "data[\"OP_DATE\"] = pd.to_datetime(data[\"OP_DATE\"])\n",
    "data = data.merge(temp, left_on=\"OP_DATE\", right_on=\"time\")"
   ]
  },
  {
   "cell_type": "code",
   "execution_count": null,
   "metadata": {},
   "outputs": [],
   "source": [
    "data.columns"
   ]
  },
  {
   "cell_type": "code",
   "execution_count": null,
   "metadata": {},
   "outputs": [],
   "source": [
    "data = data[['GLOAD (MWh)','SO2_MASS (tons)','HEAT_INPUT (mmBtu)', 'tavg', \"tmax\"]]"
   ]
  },
  {
   "cell_type": "code",
   "execution_count": null,
   "metadata": {},
   "outputs": [],
   "source": [
    "data"
   ]
  },
  {
   "cell_type": "code",
   "execution_count": null,
   "metadata": {},
   "outputs": [],
   "source": [
    "model = VAR(data)"
   ]
  },
  {
   "cell_type": "code",
   "execution_count": null,
   "metadata": {},
   "outputs": [],
   "source": [
    "model.select_order(10)"
   ]
  },
  {
   "cell_type": "code",
   "execution_count": null,
   "metadata": {},
   "outputs": [],
   "source": [
    "res = model.fit(maxlags=10, ic='aic')"
   ]
  },
  {
   "cell_type": "code",
   "execution_count": null,
   "metadata": {},
   "outputs": [],
   "source": [
    "fig = res.plot_forecast(20)\n",
    "fig.get_axes()[0].legend(loc='upper left')\n",
    "fig.get_axes()[1].legend(loc='upper left')\n",
    "fig.get_axes()[2].legend(loc='upper left')\n",
    "fig.get_axes()[3].legend(loc='upper left')\n",
    "fig.get_axes()[4].legend(loc='upper left')\n",
    "fig.set_dpi(300)"
   ]
  },
  {
   "cell_type": "code",
   "execution_count": null,
   "metadata": {},
   "outputs": [],
   "source": [
    "plt.figure(dpi=150)\n",
    "sns.heatmap(data.corr(), annot=True, vmax=1, vmin=-1, center=0, cmap='coolwarm')\n"
   ]
  }
 ],
 "metadata": {
  "kernelspec": {
   "display_name": "Python 3.9.12 ('science')",
   "language": "python",
   "name": "python3"
  },
  "language_info": {
   "codemirror_mode": {
    "name": "ipython",
    "version": 3
   },
   "file_extension": ".py",
   "mimetype": "text/x-python",
   "name": "python",
   "nbconvert_exporter": "python",
   "pygments_lexer": "ipython3",
   "version": "3.9.12"
  },
  "vscode": {
   "interpreter": {
    "hash": "f481d707f485e5e545fcbec8e23552587d82164162b1e7024dc6dabd3ca7d616"
   }
  }
 },
 "nbformat": 4,
 "nbformat_minor": 2
}
