{
 "cells": [
  {
   "cell_type": "code",
   "execution_count": 1,
   "metadata": {},
   "outputs": [],
   "source": [
    "import numpy as np\n",
    "import pandas as pd\n",
    "import requests\n",
    "\n",
    "import sys\n",
    "\n",
    "sys.path.append(\"../\")\n",
    "\n"
   ]
  },
  {
   "cell_type": "code",
   "execution_count": 2,
   "metadata": {},
   "outputs": [],
   "source": [
    "eia = pd.read_csv(\"./EIA_Plant_List.csv\")\n",
    "epa = pd.read_csv(\"./EPA_plant_List.csv\")\n",
    "walk = pd.read_csv(\"./TX_crosswalk.csv\")"
   ]
  },
  {
   "cell_type": "markdown",
   "metadata": {},
   "source": [
    "### EIA Matches"
   ]
  },
  {
   "cell_type": "code",
   "execution_count": 3,
   "metadata": {},
   "outputs": [
    {
     "name": "stdout",
     "output_type": "stream",
     "text": [
      "Number of EIA Matches:  429\n",
      "Number of EIA Non-Matches:  707\n",
      "Percent of EIA Matches:  0.38\n",
      "Percent of EIA Non-Matches:  0.62\n"
     ]
    }
   ],
   "source": [
    "print(\"Number of EIA Matches: \", len(eia.loc[eia[\"match\"] == True]))\n",
    "print(\"Number of EIA Non-Matches: \", len(eia.loc[eia[\"match\"] == False]))\n",
    "\n",
    "print(\"Percent of EIA Matches: \", round(len(eia.loc[eia[\"match\"] == True])/len(eia), 2))\n",
    "print(\"Percent of EIA Non-Matches: \", round(len(eia.loc[eia[\"match\"] == False])/len(eia), 2))"
   ]
  },
  {
   "cell_type": "markdown",
   "metadata": {},
   "source": [
    "### EPA Matches"
   ]
  },
  {
   "cell_type": "code",
   "execution_count": 4,
   "metadata": {},
   "outputs": [
    {
     "name": "stdout",
     "output_type": "stream",
     "text": [
      "Number of EPA Matches:  414\n",
      "Number of EPA Non-Matches:  100\n",
      "Percent of EPA Matches:  0.36\n",
      "Percent of EPA Non-Matches:  0.09\n"
     ]
    }
   ],
   "source": [
    "print(\"Number of EPA Matches: \", len(epa.loc[epa[\"match\"] == True]))\n",
    "print(\"Number of EPA Non-Matches: \", len(epa.loc[epa[\"match\"] == False]))\n",
    "\n",
    "print(\"Percent of EPA Matches: \", round(len(epa.loc[epa[\"match\"] == True])/len(eia), 2))\n",
    "print(\"Percent of EPA Non-Matches: \", round(len(epa.loc[epa[\"match\"] == False])/len(eia), 2))"
   ]
  },
  {
   "cell_type": "markdown",
   "metadata": {},
   "source": [
    "### EIA Fuel Breakdown"
   ]
  },
  {
   "cell_type": "code",
   "execution_count": 5,
   "metadata": {},
   "outputs": [
    {
     "name": "stdout",
     "output_type": "stream",
     "text": [
      "\n",
      "Percent Fuel Types Matched\n",
      "\n",
      "Natural Gas    0.927739\n",
      "Coal           0.072261\n",
      "Name: Energy Source 1, dtype: float64\n",
      "\n",
      "Percent Fuel Types Not Matched\n",
      "\n",
      "Natural Gas    0.371994\n",
      "Wind           0.281471\n",
      "Solar          0.114569\n",
      "Renewable      0.072136\n",
      "Hydro          0.070721\n",
      "Petroleum      0.042433\n",
      "Other          0.041018\n",
      "Nuclear        0.005658\n",
      "Name: Energy Source 1, dtype: float64\n"
     ]
    }
   ],
   "source": [
    "print(\"\\nPercent Fuel Types Matched\\n\")\n",
    "print(eia.loc[eia[\"match\"] == True][\"Energy Source 1\"].value_counts(normalize=True))\n",
    "print(\"\\nPercent Fuel Types Not Matched\\n\")\n",
    "print(eia.loc[eia[\"match\"] == False][\"Energy Source 1\"].value_counts(normalize=True))"
   ]
  },
  {
   "cell_type": "markdown",
   "metadata": {},
   "source": [
    "### EPA Fuel Breakdown"
   ]
  },
  {
   "cell_type": "code",
   "execution_count": 6,
   "metadata": {},
   "outputs": [
    {
     "name": "stdout",
     "output_type": "stream",
     "text": [
      "\n",
      "Percent Fuel Types Matched\n",
      "\n",
      "Pipeline Natural Gas    0.874396\n",
      "Coal                    0.101449\n",
      "Natural Gas             0.012077\n",
      "NONE                    0.007246\n",
      "Other Gas               0.004831\n",
      "Name: fuel, dtype: float64\n",
      "\n",
      "Percent Fuel Types Not Matched\n",
      "\n",
      "Pipeline Natural Gas    0.92\n",
      "NONE                    0.06\n",
      "Petroleum Coke          0.01\n",
      "Wood                    0.01\n",
      "Name: fuel, dtype: float64\n"
     ]
    }
   ],
   "source": [
    "print(\"\\nPercent Fuel Types Matched\\n\")\n",
    "print(epa.loc[epa[\"match\"] == True][\"fuel\"].value_counts(normalize=True))\n",
    "print(\"\\nPercent Fuel Types Not Matched\\n\")\n",
    "print(epa.loc[epa[\"match\"] == False][\"fuel\"].value_counts(normalize=True))"
   ]
  },
  {
   "cell_type": "code",
   "execution_count": 7,
   "metadata": {},
   "outputs": [],
   "source": [
    "class EIA():\n",
    "    def __init__(self, key=None):\n",
    "        if key is None:\n",
    "            print(\"You need a key in order to use this API.\")\n",
    "        else:\n",
    "            self.key = key\n",
    "\n",
    "    def electric_plant_all(self, plant_id):\n",
    "        series_id = 'ELEC.PLANT.GEN.{}-ALL-ALL.M'.format(plant_id)\n",
    "        req = requests.get(\"https://api.eia.gov/series/?series_id={}&api_key={}\".format(series_id, self.key))\n",
    "        return pd.DataFrame.from_dict(req.json().get('series')[0].get('data'))"
   ]
  },
  {
   "cell_type": "code",
   "execution_count": 14,
   "metadata": {},
   "outputs": [],
   "source": [
    "class EPA():\n",
    "    def __init__(self, key=None):\n",
    "        if key is None:\n",
    "            print(\"You need a key in order to use this API.\")\n",
    "        else:\n",
    "            self.key = key\n",
    "\n",
    "    def hourlyData(self, orisCode, unitID, year, quarter):\n",
    "        req = requests.get(\"https://api.epa.gov/FACT/1.0/emissions/hourlyData/csv/{}/{}/{}/{}?api_key={}\".format(\n",
    "            orisCode, \n",
    "            unitID, \n",
    "            year, \n",
    "            quarter, \n",
    "            self.key))\n",
    "        con = req.content\n",
    "        return pd.read_csv(io.StringIO(con.decode('utf-8')))"
   ]
  },
  {
   "cell_type": "markdown",
   "metadata": {},
   "source": [
    "### Aggregate EPA vs EIA MWh in Q1 2019"
   ]
  },
  {
   "cell_type": "code",
   "execution_count": 12,
   "metadata": {},
   "outputs": [],
   "source": [
    "epa_api = EPA(\"9ndbfvcHxIEgQ8KnDGhmVFdw3xiyOgqhhwdJg5Wo\")\n",
    "eia_api = EIA(\"9ndbfvcHxIEgQ8KnDGhmVFdw3xiyOgqhhwdJg5Wo\")\n",
    "\n",
    "epa_data = epa_api.hourlyData(9, \"CTG-1\", \"2019\", 1)\n",
    "eia_data = eia_api.electric_plant_all(9)"
   ]
  },
  {
   "cell_type": "code",
   "execution_count": 13,
   "metadata": {},
   "outputs": [
    {
     "data": {
      "text/plain": [
       "<Response [200]>"
      ]
     },
     "execution_count": 13,
     "metadata": {},
     "output_type": "execute_result"
    }
   ],
   "source": [
    "epa_data"
   ]
  },
  {
   "cell_type": "code",
   "execution_count": null,
   "metadata": {},
   "outputs": [],
   "source": []
  }
 ],
 "metadata": {
  "interpreter": {
   "hash": "40d3a090f54c6569ab1632332b64b2c03c39dcf918b08424e98f38b5ae0af88f"
  },
  "kernelspec": {
   "display_name": "Python 3.9.7 ('base')",
   "language": "python",
   "name": "python3"
  },
  "language_info": {
   "codemirror_mode": {
    "name": "ipython",
    "version": 3
   },
   "file_extension": ".py",
   "mimetype": "text/x-python",
   "name": "python",
   "nbconvert_exporter": "python",
   "pygments_lexer": "ipython3",
   "version": "3.9.7"
  },
  "orig_nbformat": 4
 },
 "nbformat": 4,
 "nbformat_minor": 2
}
