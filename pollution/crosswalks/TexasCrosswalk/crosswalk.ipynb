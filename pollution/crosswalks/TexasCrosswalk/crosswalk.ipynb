{
 "cells": [
  {
   "cell_type": "code",
   "execution_count": 42,
   "metadata": {},
   "outputs": [],
   "source": [
    "import sys\n",
    "import numpy as np\n",
    "import pandas as pd\n",
    "import matplotlib.pyplot as plt\n",
    "import seaborn as sns"
   ]
  },
  {
   "cell_type": "markdown",
   "metadata": {},
   "source": [
    "## Import Data"
   ]
  },
  {
   "cell_type": "code",
   "execution_count": 27,
   "metadata": {},
   "outputs": [],
   "source": [
    "power = pd.read_csv('gen.csv')\n",
    "power[\"dist\"] = None\n",
    "power[\"croswalkIdx\"] = None\n",
    "fac = pd.read_csv('facility.csv')\n",
    "gas_dict = {\"Pipeline Natural Gas\": \"ng\", \"Natural Gas\": \"ng\", \"Coal\": \"coal\", \"Wood\": \"wood\"}"
   ]
  },
  {
   "cell_type": "markdown",
   "metadata": {},
   "source": [
    "## Define Distance Functions"
   ]
  },
  {
   "cell_type": "code",
   "execution_count": 28,
   "metadata": {},
   "outputs": [],
   "source": [
    "def manhatton_distance(x1, x2, y1, y2):\n",
    "    return abs(x1 - x2) + abs(y1 - y2)\n",
    "\n",
    "def euclidean_distance(x1, x2, y1, y2):\n",
    "    return np.sqrt((x1 - x2)**2 + (y1 - y2)**2)"
   ]
  },
  {
   "cell_type": "markdown",
   "metadata": {},
   "source": [
    "## Find Closest Generator in facilities"
   ]
  },
  {
   "cell_type": "code",
   "execution_count": 29,
   "metadata": {},
   "outputs": [],
   "source": [
    "temp = []\n",
    "idx = []\n",
    "for j in range(len(power)):\n",
    "    m = sys.maxsize\n",
    "    id = -1\n",
    "    for i in range(len(fac)):\n",
    "        dist = euclidean_distance(power.loc[j, 'lat'], fac.loc[i, 'Latitude'], power.loc[j, 'long'], fac.loc[i, 'Longitude'])\n",
    "        if dist < m:\n",
    "            m = dist\n",
    "            id = i\n",
    "    temp.append(m)\n",
    "    idx.append(id)\n",
    "\n",
    "power[\"dist\"] = temp\n",
    "power[\"croswalkIdx\"] = idx"
   ]
  },
  {
   "cell_type": "markdown",
   "metadata": {},
   "source": [
    "## Merging Together"
   ]
  },
  {
   "cell_type": "code",
   "execution_count": 51,
   "metadata": {},
   "outputs": [],
   "source": [
    "cross = power.merge(fac, left_on='croswalkIdx', right_index=True)\n",
    "cross = cross.loc[cross[\"dist\"] < 0.1].reset_index(drop=True)"
   ]
  },
  {
   "cell_type": "markdown",
   "metadata": {},
   "source": [
    "## Match Fuel Types"
   ]
  },
  {
   "cell_type": "code",
   "execution_count": 52,
   "metadata": {},
   "outputs": [],
   "source": [
    "mask = []\n",
    "for i in range(len(cross)):\n",
    "    if cross.loc[i, 'Primary Fuel Type'] in gas_dict and cross.loc[i, 'fuel'] == gas_dict[cross.loc[i, 'Primary Fuel Type']]:\n",
    "        mask.append(True)\n",
    "    else:\n",
    "        mask.append(False)\n",
    "cross = cross.loc[mask]\n",
    "cross = cross[[\"fuel\", \"Primary Fuel Type\"]]"
   ]
  },
  {
   "cell_type": "code",
   "execution_count": 53,
   "metadata": {},
   "outputs": [
    {
     "data": {
      "text/plain": [
       "<AxesSubplot:xlabel='fuel', ylabel='Count'>"
      ]
     },
     "execution_count": 53,
     "metadata": {},
     "output_type": "execute_result"
    },
    {
     "data": {
      "image/png": "[encoded data removed]",
      "text/plain": [
       "<Figure size 432x288 with 1 Axes>"
      ]
     },
     "metadata": {
      "needs_background": "light"
     },
     "output_type": "display_data"
    }
   ],
   "source": [
    "sns.histplot(cross, x=\"fuel\", hue=\"Primary Fuel Type\", multiple=\"stack\")"
   ]
  },
  {
   "cell_type": "code",
   "execution_count": 16,
   "metadata": {},
   "outputs": [],
   "source": [
    "cross[[\"Facility Name\", \"Facility ID\", \"Pg\", \"Qg\", \"Qmax\", \"Qmin\", \"Pmax\", \"Pmin\", \"fuel\", \"lat\", \"long\"]].to_csv(\"Texas7kCrosswalk.csv\", index=False)"
   ]
  },
  {
   "cell_type": "code",
   "execution_count": null,
   "metadata": {},
   "outputs": [],
   "source": []
  }
 ],
 "metadata": {
  "kernelspec": {
   "display_name": "Python 3.9.7 ('base')",
   "language": "python",
   "name": "python3"
  },
  "language_info": {
   "codemirror_mode": {
    "name": "ipython",
    "version": 3
   },
   "file_extension": ".py",
   "mimetype": "text/x-python",
   "name": "python",
   "nbconvert_exporter": "python",
   "pygments_lexer": "ipython3",
   "version": "3.9.7"
  },
  "orig_nbformat": 4,
  "vscode": {
   "interpreter": {
    "hash": "40d3a090f54c6569ab1632332b64b2c03c39dcf918b08424e98f38b5ae0af88f"
   }
  }
 },
 "nbformat": 4,
 "nbformat_minor": 2
}
