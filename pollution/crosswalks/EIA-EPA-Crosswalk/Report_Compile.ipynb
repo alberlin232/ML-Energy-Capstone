{
 "cells": [
  {
   "cell_type": "code",
   "execution_count": 1,
   "metadata": {},
   "outputs": [],
   "source": [
    "import numpy as np\n",
    "import pandas as pd\n",
    "import requests\n",
    "import io\n",
    "import requests\n",
    "from contextlib import closing\n",
    "import csv\n"
   ]
  },
  {
   "cell_type": "code",
   "execution_count": 2,
   "metadata": {},
   "outputs": [],
   "source": [
    "eia = pd.read_csv(\"./EIA_Plant_List.csv\")\n",
    "epa = pd.read_csv(\"./EPA_plant_List.csv\")\n",
    "walk = pd.read_csv(\"./TX_crosswalk.csv\")"
   ]
  },
  {
   "cell_type": "markdown",
   "metadata": {},
   "source": [
    "### EIA Matches"
   ]
  },
  {
   "cell_type": "code",
   "execution_count": 3,
   "metadata": {},
   "outputs": [
    {
     "name": "stdout",
     "output_type": "stream",
     "text": [
      "Number of EIA Matches:  429\n",
      "Number of EIA Non-Matches:  707\n",
      "Percent of EIA Matches:  0.378\n",
      "Percent of EIA Non-Matches:  0.622\n"
     ]
    }
   ],
   "source": [
    "print(\"Number of EIA Matches: \", len(eia.loc[eia[\"match\"] == True]))\n",
    "print(\"Number of EIA Non-Matches: \", len(eia.loc[eia[\"match\"] == False]))\n",
    "\n",
    "print(\"Percent of EIA Matches: \", round(len(eia.loc[eia[\"match\"] == True])/len(eia), 3))\n",
    "print(\"Percent of EIA Non-Matches: \", round(len(eia.loc[eia[\"match\"] == False])/len(eia), 3))"
   ]
  },
  {
   "cell_type": "markdown",
   "metadata": {},
   "source": [
    "### EPA Matches"
   ]
  },
  {
   "cell_type": "code",
   "execution_count": 4,
   "metadata": {},
   "outputs": [
    {
     "name": "stdout",
     "output_type": "stream",
     "text": [
      "Number of EPA Matches:  414\n",
      "Number of EPA Non-Matches:  100\n",
      "Percent of EPA Matches:  0.805\n",
      "Percent of EPA Non-Matches:  0.195\n"
     ]
    }
   ],
   "source": [
    "print(\"Number of EPA Matches: \", len(epa.loc[epa[\"match\"] == True]))\n",
    "print(\"Number of EPA Non-Matches: \", len(epa.loc[epa[\"match\"] == False]))\n",
    "\n",
    "print(\"Percent of EPA Matches: \", round(len(epa.loc[epa[\"match\"] == True])/len(epa), 3))\n",
    "print(\"Percent of EPA Non-Matches: \", round(len(epa.loc[epa[\"match\"] == False])/len(epa), 3))"
   ]
  },
  {
   "cell_type": "markdown",
   "metadata": {},
   "source": [
    "### EIA Fuel Breakdown"
   ]
  },
  {
   "cell_type": "code",
   "execution_count": 5,
   "metadata": {},
   "outputs": [
    {
     "name": "stdout",
     "output_type": "stream",
     "text": [
      "\n",
      "Percent Fuel Types Matched\n",
      "\n",
      "Natural Gas    0.928\n",
      "Coal           0.072\n",
      "Name: Energy Source 1, dtype: float64\n",
      "\n",
      "Percent Fuel Types Not Matched\n",
      "\n",
      "Natural Gas    0.372\n",
      "Wind           0.281\n",
      "Solar          0.115\n",
      "Renewable      0.072\n",
      "Hydro          0.071\n",
      "Petroleum      0.042\n",
      "Other          0.041\n",
      "Nuclear        0.006\n",
      "Name: Energy Source 1, dtype: float64\n"
     ]
    }
   ],
   "source": [
    "print(\"\\nPercent Fuel Types Matched\\n\")\n",
    "print(eia.loc[eia[\"match\"] == True][\"Energy Source 1\"].value_counts(normalize=True).round(3))\n",
    "print(\"\\nPercent Fuel Types Not Matched\\n\")\n",
    "print(eia.loc[eia[\"match\"] == False][\"Energy Source 1\"].value_counts(normalize=True).round(3))"
   ]
  },
  {
   "cell_type": "markdown",
   "metadata": {},
   "source": [
    "### EPA Fuel Breakdown"
   ]
  },
  {
   "cell_type": "code",
   "execution_count": 6,
   "metadata": {},
   "outputs": [
    {
     "name": "stdout",
     "output_type": "stream",
     "text": [
      "\n",
      "Percent Fuel Types Matched\n",
      "\n",
      "Pipeline Natural Gas    0.874\n",
      "Coal                    0.101\n",
      "Natural Gas             0.012\n",
      "NONE                    0.007\n",
      "Other Gas               0.005\n",
      "Name: fuel, dtype: float64\n",
      "\n",
      "Percent Fuel Types Not Matched\n",
      "\n",
      "Pipeline Natural Gas    0.92\n",
      "NONE                    0.06\n",
      "Petroleum Coke          0.01\n",
      "Wood                    0.01\n",
      "Name: fuel, dtype: float64\n"
     ]
    }
   ],
   "source": [
    "print(\"\\nPercent Fuel Types Matched\\n\")\n",
    "print(epa.loc[epa[\"match\"] == True][\"fuel\"].value_counts(normalize=True).round(3))\n",
    "print(\"\\nPercent Fuel Types Not Matched\\n\")\n",
    "print(epa.loc[epa[\"match\"] == False][\"fuel\"].value_counts(normalize=True).round(3))"
   ]
  },
  {
   "cell_type": "code",
   "execution_count": 7,
   "metadata": {},
   "outputs": [],
   "source": [
    "class EIA():\n",
    "    def __init__(self, key=None):\n",
    "        if key is None:\n",
    "            print(\"You need a key in order to use this API.\")\n",
    "        else:\n",
    "            self.key = key\n",
    "\n",
    "    def electric_plant_all(self, plant_id):\n",
    "        series_id = 'ELEC.PLANT.GEN.{}-ALL-ALL.Q'.format(plant_id)\n",
    "        req = requests.get(\"https://api.eia.gov/series/?series_id={}&api_key={}\".format(series_id, self.key))\n",
    "        return pd.DataFrame.from_dict(req.json().get('series')[0].get('data'))"
   ]
  },
  {
   "cell_type": "code",
   "execution_count": 8,
   "metadata": {},
   "outputs": [],
   "source": [
    "class EPA():\n",
    "    def __init__(self, key=None):\n",
    "        if key is None:\n",
    "            print(\"You need a key in order to use this API.\")\n",
    "        else:\n",
    "            self.key = key\n",
    "\n",
    "    def hourlyData(self, orisCode, unitID, year, quarter):\n",
    "        url = \"https://api.epa.gov/FACT/1.0/emissions/hourlyData/csv/{}/{}/{}/{}?api_key={}\".format(\n",
    "            orisCode, \n",
    "            unitID, \n",
    "            year, \n",
    "            quarter, \n",
    "            self.key)\n",
    "        try:\n",
    "           data = pd.read_csv(url)\n",
    "           return data\n",
    "        except:\n",
    "            return pd.DataFrame()"
   ]
  },
  {
   "cell_type": "markdown",
   "metadata": {},
   "source": [
    "### Aggregate EPA vs EIA MWh in Q1 2019"
   ]
  },
  {
   "cell_type": "code",
   "execution_count": 9,
   "metadata": {},
   "outputs": [],
   "source": [
    "epa_api = EPA(\"9ndbfvcHxIEgQ8KnDGhmVFdw3xiyOgqhhwdJg5Wo\")\n",
    "eia_api = EIA(\"9ndbfvcHxIEgQ8KnDGhmVFdw3xiyOgqhhwdJg5Wo\")"
   ]
  },
  {
   "cell_type": "code",
   "execution_count": 10,
   "metadata": {},
   "outputs": [],
   "source": [
    "epa_true = epa.loc[epa[\"match\"] == True]\n",
    "eia_true = eia.loc[eia[\"match\"] == True]"
   ]
  },
  {
   "cell_type": "code",
   "execution_count": 11,
   "metadata": {},
   "outputs": [],
   "source": [
    "walk = walk[[\"CAMD_PLANT_ID\", \"CAMD_UNIT_ID\", \"EIA_PLANT_ID\", \"EIA_GENERATOR_ID\"]]\n",
    "walk[\"EIA_PLANT_ID\"] = walk[\"EIA_PLANT_ID\"].astype(int)\n",
    "# merged = eia_true.merge(walk, how=\"right\", left_on=[\"Plant Code\", \"Generator ID\"], right_on=[\"EIA_PLANT_ID\", \"EIA_GENERATOR_ID\"])\n",
    "# epa_true.merge(merged, how=\"right\", left_on=[\"orisCode\", \"unitId\"], right_on=[\"CAMD_PLANT_ID\", \"CAMD_UNIT_ID\"]).dropna().drop_duplicates()\n"
   ]
  },
  {
   "cell_type": "code",
   "execution_count": 12,
   "metadata": {},
   "outputs": [],
   "source": [
    "def get_eia_2019Q1(api,plant_id):\n",
    "    temp = api.electric_plant_all(9)\n",
    "    return temp.loc[temp[0] == \"2019Q1\"].reset_index(drop=True).at[0,1]\n",
    "\n",
    "def get_EPA_2019Q1(api, plant_id, unit_id):\n",
    "    return api.hourlyData(plant_id, unit_id, \"2019\", 1)\n"
   ]
  },
  {
   "cell_type": "code",
   "execution_count": 13,
   "metadata": {},
   "outputs": [
    {
     "name": "stdout",
     "output_type": "stream",
     "text": [
      "9  :  CTG-1\n",
      "6290.0\n",
      "127  :  1\n",
      "962455.0\n",
      "298  :  LIM1\n",
      "298  :  LIM2\n",
      "2054725.0\n",
      "3439  :  4\n",
      "3439  :  5\n",
      "20660.0\n",
      "3441  :  8\n",
      "3441  :  9\n",
      "265696.0\n",
      "3443  :  9\n",
      "134993.0\n",
      "3452  :  1\n",
      "3452  :  2\n",
      "5866.0\n",
      "3453  :  6\n",
      "3453  :  7\n",
      "3453  :  8\n",
      "9295.0\n",
      "3456  :  **4\n",
      "3456  :  **5\n",
      "3456  :  1\n",
      "3456  :  2\n",
      "3456  :  3\n",
      "3456  :  GT-6A\n",
      "3456  :  GT-6B\n",
      "632405.0\n",
      "3457  :  1\n",
      "3457  :  2\n",
      "424828.0\n",
      "3459  :  1\n",
      "3459  :  2\n",
      "52242.0\n",
      "3460  :  CBY1\n",
      "3460  :  CBY2\n",
      "27139.0\n",
      "3464  :  GBY5\n",
      "0\n",
      "3468  :  SRB1\n",
      "3468  :  SRB2\n",
      "3468  :  SRB3\n",
      "0.0\n",
      "3469  :  THW31\n",
      "3469  :  THW32\n",
      "3469  :  THW33\n",
      "3469  :  THW34\n",
      "3469  :  THW41\n",
      "3469  :  THW42\n",
      "3469  :  THW43\n",
      "3469  :  THW44\n",
      "3469  :  THW51\n",
      "3469  :  THW52\n",
      "3469  :  THW53\n",
      "3469  :  THW54\n",
      "3469  :  THW55\n",
      "3469  :  THW56\n",
      "90224.0\n",
      "3470  :  WAP1\n",
      "3470  :  WAP2\n",
      "3470  :  WAP3\n",
      "3470  :  WAP4\n",
      "3470  :  WAP5\n",
      "3470  :  WAP6\n",
      "3470  :  WAP7\n",
      "3470  :  WAP8\n",
      "2931231.0\n",
      "3476  :  2\n",
      "3476  :  3\n",
      "3476  :  4\n",
      "1677.0\n",
      "3477  :  1\n",
      "0.0\n",
      "3478  :  1\n",
      "3478  :  2\n",
      "3478  :  3\n",
      "113712.0\n",
      "3482  :  151B\n",
      "3482  :  152B\n",
      "3482  :  153T\n",
      "3482  :  154T\n",
      "416774.0\n",
      "3483  :  3\n",
      "0\n",
      "3484  :  141B\n",
      "3484  :  142B\n",
      "3484  :  143B\n",
      "113634.0\n",
      "3485  :  111B\n",
      "3485  :  112B\n",
      "3485  :  113B\n",
      "3485  :  114B\n",
      "267509.0\n",
      "3489  :  1\n",
      "0\n",
      "3490  :  1\n",
      "3490  :  2\n",
      "9377.0\n",
      "3491  :  3\n",
      "3491  :  4\n",
      "3491  :  5\n",
      "34653.0\n",
      "3492  :  5\n",
      "0\n",
      "3494  :  5\n",
      "0\n",
      "3497  :  1\n",
      "0\n",
      "3502  :  1\n",
      "0\n",
      "3504  :  1\n",
      "3504  :  2\n",
      "12896.0\n",
      "3507  :  9\n",
      "6133.0\n"
     ]
    }
   ],
   "source": [
    "dic = {\"plant_id\":[], \"eia\":[], \"epa\":[], \"valid\":[]}\n",
    "for i in walk[\"EIA_PLANT_ID\"].unique():\n",
    "    data = walk.loc[walk[\"CAMD_PLANT_ID\"] == i]\n",
    "\n",
    "    epa_sum = 0\n",
    "    for j in data[\"CAMD_UNIT_ID\"].unique():\n",
    "        print(i, \" : \", j)\n",
    "        req = epa_api.hourlyData(i,j, \"2019\", 1)\n",
    "        if req.empty:\n",
    "            dic[\"plant_id\"].append(i)\n",
    "            dic[\"eia\"].append(\"-1\")\n",
    "            dic[\"epa\"].append(\"-1\")\n",
    "            dic[\"valid\"].append(False)\n",
    "            break\n",
    "        epa_sum += epa_api.hourlyData(i,j, \"2019\", 1)[\"HourLoad\"].sum()\n",
    "    print(epa_sum)\n",
    "    try:\n",
    "        temp = eia_api.electric_plant_all(i)\n",
    "        eia_sum = temp.loc[temp[0] == \"2019Q1\"].reset_index(drop=True).at[0,1]\n",
    "    except: continue\n",
    "    dic[\"plant_id\"].append(i)\n",
    "    dic[\"eia\"].append(eia_sum)\n",
    "    dic[\"epa\"].append(epa_sum)\n",
    "    dic[\"valid\"].append(True)\n",
    "\n",
    "yes = pd.DataFrame().from_dict(dic)\n"
   ]
  },
  {
   "cell_type": "code",
   "execution_count": null,
   "metadata": {},
   "outputs": [
    {
     "data": {
      "text/html": [
       "<div>\n",
       "<style scoped>\n",
       "    .dataframe tbody tr th:only-of-type {\n",
       "        vertical-align: middle;\n",
       "    }\n",
       "\n",
       "    .dataframe tbody tr th {\n",
       "        vertical-align: top;\n",
       "    }\n",
       "\n",
       "    .dataframe thead th {\n",
       "        text-align: right;\n",
       "    }\n",
       "</style>\n",
       "<table border=\"1\" class=\"dataframe\">\n",
       "  <thead>\n",
       "    <tr style=\"text-align: right;\">\n",
       "      <th></th>\n",
       "    </tr>\n",
       "  </thead>\n",
       "  <tbody>\n",
       "  </tbody>\n",
       "</table>\n",
       "</div>"
      ],
      "text/plain": [
       "Empty DataFrame\n",
       "Columns: []\n",
       "Index: []"
      ]
     },
     "execution_count": 27,
     "metadata": {},
     "output_type": "execute_result"
    }
   ],
   "source": [
    "epa_api.hourlyData(3464,\"GBY5\", \"2019\", 1)"
   ]
  },
  {
   "cell_type": "code",
   "execution_count": null,
   "metadata": {},
   "outputs": [],
   "source": [
    "dic = {\"year\":[], \"Q\":[], \"to_string\":[]}\n",
    "year = 2015\n",
    "while (year <= 2021):\n",
    "    for i in range(1,5):\n",
    "        dic[\"year\"].append(year)\n",
    "        dic[\"Q\"].append(i)\n",
    "        dic[\"to_string\"].append(\"{}Q{}\".format(year,i))\n",
    "    year += 1\n",
    "\n",
    "date = pd.DataFrame().from_dict(dic)\n",
    "date.to_csv(\"date.csv\", index = False)"
   ]
  },
  {
   "cell_type": "code",
   "execution_count": null,
   "metadata": {},
   "outputs": [],
   "source": []
  }
 ],
 "metadata": {
  "interpreter": {
   "hash": "40d3a090f54c6569ab1632332b64b2c03c39dcf918b08424e98f38b5ae0af88f"
  },
  "kernelspec": {
   "display_name": "Python 3.9.7 ('base')",
   "language": "python",
   "name": "python3"
  },
  "language_info": {
   "codemirror_mode": {
    "name": "ipython",
    "version": 3
   },
   "file_extension": ".py",
   "mimetype": "text/x-python",
   "name": "python",
   "nbconvert_exporter": "python",
   "pygments_lexer": "ipython3",
   "version": "3.9.7"
  },
  "orig_nbformat": 4
 },
 "nbformat": 4,
 "nbformat_minor": 2
}
