{
 "cells": [
  {
   "cell_type": "code",
   "execution_count": 1,
   "metadata": {},
   "outputs": [],
   "source": [
    "import numpy as np\n",
    "import pandas as pd\n",
    "import matplotlib.pyplot as plt"
   ]
  },
  {
   "cell_type": "code",
   "execution_count": 2,
   "metadata": {},
   "outputs": [
    {
     "data": {
      "text/plain": [
       "Index(['Number of Bus', 'Name of Bus', 'ID',\n",
       "       'Start-Up Costs ($/MW of capacity/start)',\n",
       "       'Shut-Down Costs ($/MW/shutdown)', 'Cold Start-Up Time (hours)',\n",
       "       'Warm Start-Up Time (hours)', 'Hot Start-Up Time (hours)',\n",
       "       'Minimum Up Time (hours)', 'Minimum Down Time (hours)',\n",
       "       'Ramp Rate Up and Down (%/min) ', ' Variable O&M Costs ($/MWh)',\n",
       "       'Fuel Costs ($/MMBtu)', 'Sub Num of Bus', 'Status', 'Gen MW',\n",
       "       'Gen Mvar', 'Min MW', 'Max MW', 'AGC', '# Cost Curve Points', 'IOB',\n",
       "       'IOC', 'Variable O&M', 'Fuel Cost', 'IOD', 'AVR', 'RegBus Num',\n",
       "       'Fuel Type', 'Set Volt', 'Min Mvar', 'Max Mvar', 'Enforce MW Limits',\n",
       "       'Part. Factor', 'Cost Model', 'Plant Code', 'Generator ID'],\n",
       "      dtype='object')"
      ]
     },
     "execution_count": 2,
     "metadata": {},
     "output_type": "execute_result"
    }
   ],
   "source": [
    "matpower = pd.read_csv(\"./7KbusGen.csv\")\n",
    "eia = pd.read_csv(\"./EIA_860_generator_list.csv\")\n",
    "# split eia plant code_gen ID into plant code and gen ID\n",
    "matpower[\"Plant Code\"] = matpower[\"EIA plant code_gen ID\"].str.split(\"_\", expand=True)[0].astype(int)\n",
    "matpower[\"Generator ID\"] = matpower[\"EIA plant code_gen ID\"].str.split(\"_\", expand=True)[1].astype(str)\n",
    "matpower.drop(\"EIA plant code_gen ID\", axis=1, inplace=True)\n",
    "matpower.columns\n"
   ]
  },
  {
   "cell_type": "code",
   "execution_count": 3,
   "metadata": {},
   "outputs": [
    {
     "data": {
      "text/plain": [
       "Index(['Utility ID', 'Utility Name', 'Plant Code', 'Plant Name', 'State',\n",
       "       'County', 'Generator ID', 'Technology', 'Prime Mover', 'Unit Code',\n",
       "       'Ownership', 'Duct Burners',\n",
       "       'Can Bypass Heat Recovery Steam Generator?',\n",
       "       'RTO/ISO LMP Node Designation',\n",
       "       'RTO/ISO Location Designation for Reporting Wholesale Sales Data to FERC',\n",
       "       'Nameplate Capacity (MW)', 'Nameplate Power Factor',\n",
       "       'Summer Capacity (MW)', 'Winter Capacity (MW)', 'Minimum Load (MW)',\n",
       "       'Uprate or Derate Completed During Year',\n",
       "       'Month Uprate or Derate Completed', 'Year Uprate or Derate Completed',\n",
       "       'Status', 'Synchronized to Transmission Grid', 'Operating Month',\n",
       "       'Operating Year', 'Planned Retirement Month', 'Planned Retirement Year',\n",
       "       'Associated with Combined Heat and Power System', 'Sector Name',\n",
       "       'Sector', 'Topping or Bottoming', 'Energy Source 1', 'Energy Source 2',\n",
       "       'Energy Source 3', 'Energy Source 4', 'Energy Source 5',\n",
       "       'Energy Source 6', 'Startup Source 1', 'Startup Source 2',\n",
       "       'Startup Source 3', 'Startup Source 4',\n",
       "       'Solid Fuel Gasification System?', 'Carbon Capture Technology?',\n",
       "       'Turbines or Hydrokinetic Buoys',\n",
       "       'Time from Cold Shutdown to Full Load', 'Fluidized Bed Technology?',\n",
       "       'Pulverized Coal Technology?', 'Stoker Technology?',\n",
       "       'Other Combustion Technology?', 'Subcritical Technology?',\n",
       "       'Supercritical Technology?', 'Ultrasupercritical Technology?',\n",
       "       'Planned Net Summer Capacity Uprate (MW)',\n",
       "       'Planned Net Winter Capacity Uprate (MW)', 'Planned Uprate Month',\n",
       "       'Planned Uprate Year', 'Planned Net Summer Capacity Derate (MW)',\n",
       "       'Planned Net Winter Capacity Derate (MW)', 'Planned Derate Month',\n",
       "       'Planned Derate Year', 'Planned New Prime Mover',\n",
       "       'Planned Energy Source 1', 'Planned New Nameplate Capacity (MW)',\n",
       "       'Planned Repower Month', 'Planned Repower Year',\n",
       "       'Other Planned Modifications?', 'Other Modifications Month',\n",
       "       'Other Modifications Year', 'Multiple Fuels?', 'Cofire Fuels?',\n",
       "       'Switch Between Oil and Natural Gas?'],\n",
       "      dtype='object')"
      ]
     },
     "execution_count": 3,
     "metadata": {},
     "output_type": "execute_result"
    }
   ],
   "source": [
    "eia.columns"
   ]
  },
  {
   "cell_type": "code",
   "execution_count": 6,
   "metadata": {},
   "outputs": [
    {
     "data": {
      "text/plain": [
       "array(['NG', 'SUB', 'WAT', 'DFO', 'NUC', 'RC', 'LIG', 'OG', 'PC', 'BLQ',\n",
       "       'WH', 'BFG', 'WDS', 'PUR', 'LFG', 'AB', 'WND', 'MWH', 'SUN'],\n",
       "      dtype=object)"
      ]
     },
     "execution_count": 6,
     "metadata": {},
     "output_type": "execute_result"
    }
   ],
   "source": [
    "eia[\"Energy Source 1\"].unique()"
   ]
  },
  {
   "cell_type": "code",
   "execution_count": 10,
   "metadata": {},
   "outputs": [
    {
     "data": {
      "text/html": [
       "<div>\n",
       "<style scoped>\n",
       "    .dataframe tbody tr th:only-of-type {\n",
       "        vertical-align: middle;\n",
       "    }\n",
       "\n",
       "    .dataframe tbody tr th {\n",
       "        vertical-align: top;\n",
       "    }\n",
       "\n",
       "    .dataframe thead th {\n",
       "        text-align: right;\n",
       "    }\n",
       "</style>\n",
       "<table border=\"1\" class=\"dataframe\">\n",
       "  <thead>\n",
       "    <tr style=\"text-align: right;\">\n",
       "      <th></th>\n",
       "      <th>Plant Code</th>\n",
       "      <th>Generator ID</th>\n",
       "      <th>Fuel Type</th>\n",
       "      <th>Energy Source 1</th>\n",
       "    </tr>\n",
       "  </thead>\n",
       "  <tbody>\n",
       "    <tr>\n",
       "      <th>0</th>\n",
       "      <td>3460</td>\n",
       "      <td>1</td>\n",
       "      <td>NG (Natural Gas)</td>\n",
       "      <td>NG</td>\n",
       "    </tr>\n",
       "    <tr>\n",
       "      <th>1</th>\n",
       "      <td>3460</td>\n",
       "      <td>2</td>\n",
       "      <td>NG (Natural Gas)</td>\n",
       "      <td>NG</td>\n",
       "    </tr>\n",
       "    <tr>\n",
       "      <th>2</th>\n",
       "      <td>3464</td>\n",
       "      <td>73</td>\n",
       "      <td>NG (Natural Gas)</td>\n",
       "      <td>NG</td>\n",
       "    </tr>\n",
       "    <tr>\n",
       "      <th>3</th>\n",
       "      <td>3464</td>\n",
       "      <td>74</td>\n",
       "      <td>NG (Natural Gas)</td>\n",
       "      <td>NG</td>\n",
       "    </tr>\n",
       "    <tr>\n",
       "      <th>4</th>\n",
       "      <td>3464</td>\n",
       "      <td>81</td>\n",
       "      <td>NG (Natural Gas)</td>\n",
       "      <td>NG</td>\n",
       "    </tr>\n",
       "    <tr>\n",
       "      <th>...</th>\n",
       "      <td>...</td>\n",
       "      <td>...</td>\n",
       "      <td>...</td>\n",
       "      <td>...</td>\n",
       "    </tr>\n",
       "    <tr>\n",
       "      <th>726</th>\n",
       "      <td>55153</td>\n",
       "      <td>STG2</td>\n",
       "      <td>NG (Natural Gas)</td>\n",
       "      <td>NG</td>\n",
       "    </tr>\n",
       "    <tr>\n",
       "      <th>727</th>\n",
       "      <td>55153</td>\n",
       "      <td>CTG1</td>\n",
       "      <td>NG (Natural Gas)</td>\n",
       "      <td>NG</td>\n",
       "    </tr>\n",
       "    <tr>\n",
       "      <th>728</th>\n",
       "      <td>55153</td>\n",
       "      <td>CTG2</td>\n",
       "      <td>NG (Natural Gas)</td>\n",
       "      <td>NG</td>\n",
       "    </tr>\n",
       "    <tr>\n",
       "      <th>729</th>\n",
       "      <td>55153</td>\n",
       "      <td>CTG3</td>\n",
       "      <td>NG (Natural Gas)</td>\n",
       "      <td>NG</td>\n",
       "    </tr>\n",
       "    <tr>\n",
       "      <th>730</th>\n",
       "      <td>55153</td>\n",
       "      <td>CTG4</td>\n",
       "      <td>NG (Natural Gas)</td>\n",
       "      <td>NG</td>\n",
       "    </tr>\n",
       "  </tbody>\n",
       "</table>\n",
       "<p>731 rows × 4 columns</p>\n",
       "</div>"
      ],
      "text/plain": [
       "     Plant Code Generator ID         Fuel Type Energy Source 1\n",
       "0          3460            1  NG (Natural Gas)              NG\n",
       "1          3460            2  NG (Natural Gas)              NG\n",
       "2          3464           73  NG (Natural Gas)              NG\n",
       "3          3464           74  NG (Natural Gas)              NG\n",
       "4          3464           81  NG (Natural Gas)              NG\n",
       "..          ...          ...               ...             ...\n",
       "726       55153         STG2  NG (Natural Gas)              NG\n",
       "727       55153         CTG1  NG (Natural Gas)              NG\n",
       "728       55153         CTG2  NG (Natural Gas)              NG\n",
       "729       55153         CTG3  NG (Natural Gas)              NG\n",
       "730       55153         CTG4  NG (Natural Gas)              NG\n",
       "\n",
       "[731 rows x 4 columns]"
      ]
     },
     "execution_count": 10,
     "metadata": {},
     "output_type": "execute_result"
    }
   ],
   "source": [
    "cross = pd.merge(matpower[[\"Plant Code\", \"Generator ID\", \"Fuel Type\"]], eia[[\"Plant Code\", \"Generator ID\", \"Energy Source 1\"]], how=\"left\", on=[\"Plant Code\", \"Generator ID\"])\n",
    "cross"
   ]
  },
  {
   "cell_type": "code",
   "execution_count": 8,
   "metadata": {},
   "outputs": [],
   "source": [
    "# Fuel Conversions\n",
    "dic = {\"Coal\":[\"ANT\", \"BIT\", \"LIG\", \"SUB\", \"WC\", \"RC\"], \n",
    "    \"Petroleum\": [\"DFO\", \"JF\", \"KER\", \"PC\", \"RFO\", \"WO\"],\n",
    "    \"Natural Gas\": [\"BFG\", \"NG\", \"OG\", \"PG\", \"SG\", \"SGC\"],\n",
    "    \"Renewable\": [\"AB\", \"NSW\", \"OBS\", \"WDS\", \"OBL\", \"SLW\", \"BLQ\", \"WDL\", \"LFG\", \"OBG\"],\n",
    "    \"Solar\": [\"SUN\"],\n",
    "    \"Wind\": [\"WND\"],\n",
    "    \"Nuclear\": [\"NUC\"],\n",
    "    \"Hydro\": [\"WAT\"],\n",
    "    \"Geothermal\": [\"GEO\"],\n",
    "    \"Other\": [\"MWH\", \"WH\", \"PUR\"]\n",
    "    }\n",
    "\n",
    "\n",
    "#iterates through data and changed value of Energy Source 1 to the key value in the dic\n",
    "for index, row in cross.iterrows():\n",
    "    for key, value in dic.items():\n",
    "        if row[\"Energy Source 1\"] in value:\n",
    "            cross.at[index, \"Energy Source 1\"] = key"
   ]
  }
 ],
 "metadata": {
  "kernelspec": {
   "display_name": "Python 3.9.7 ('base')",
   "language": "python",
   "name": "python3"
  },
  "language_info": {
   "codemirror_mode": {
    "name": "ipython",
    "version": 3
   },
   "file_extension": ".py",
   "mimetype": "text/x-python",
   "name": "python",
   "nbconvert_exporter": "python",
   "pygments_lexer": "ipython3",
   "version": "3.9.7"
  },
  "orig_nbformat": 4,
  "vscode": {
   "interpreter": {
    "hash": "40d3a090f54c6569ab1632332b64b2c03c39dcf918b08424e98f38b5ae0af88f"
   }
  }
 },
 "nbformat": 4,
 "nbformat_minor": 2
}
