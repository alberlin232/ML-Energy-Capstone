{
 "cells": [
  {
   "cell_type": "code",
   "execution_count": 12,
   "metadata": {},
   "outputs": [],
   "source": [
    "import glob\n",
    "import os\n",
    "import pandas as pd\n",
    "import numpy as np\n",
    "import matplotlib.pyplot as plt\n",
    "import seaborn as sns\n",
    "from sklearn.model_selection import train_test_split\n",
    "from sklearn.linear_model import LinearRegression\n",
    "from sklearn.metrics import mean_squared_error"
   ]
  },
  {
   "cell_type": "markdown",
   "metadata": {},
   "source": [
    "## Join All Hourly Data"
   ]
  },
  {
   "cell_type": "code",
   "execution_count": 32,
   "metadata": {},
   "outputs": [
    {
     "name": "stdout",
     "output_type": "stream",
     "text": [
      "Resultant CSV after joining all CSV files at a particular location...\n"
     ]
    }
   ],
   "source": [
    "# setting the path for joining multiple files\n",
    "files = os.path.join(\"../data/epa/TXHOURLY\", \"*tx*.csv\")\n",
    "\n",
    "# list of merged files returned\n",
    "files = glob.glob(files)\n",
    "\n",
    "print(\"Resultant CSV after joining all CSV files at a particular location...\");\n",
    "\n",
    "# joining files with concat and read_csv\n",
    "df = pd.concat(map(pd.read_csv, files), ignore_index=True)\n",
    "cols = ['ORISPL_CODE', 'UNITID', 'OP_HOUR', 'GLOAD (MW)', 'SO2_RATE (lbs/mmBtu)',\n",
    "       'NOX_RATE (lbs/mmBtu)', 'CO2_RATE (tons/mmBtu)', 'HEAT_INPUT (mmBtu)']\n",
    "df = df[cols]\n",
    "df.dropna(inplace=True)"
   ]
  },
  {
   "cell_type": "code",
   "execution_count": 33,
   "metadata": {},
   "outputs": [
    {
     "name": "stdout",
     "output_type": "stream",
     "text": [
      "Index(['OP_HOUR', 'GLOAD (MW)', 'SO2_RATE (lbs/mmBtu)', 'NOX_RATE (lbs/mmBtu)',\n",
      "       'CO2_RATE (tons/mmBtu)', 'HEAT_INPUT (mmBtu)', 'ORISPL_CODE_127',\n",
      "       'ORISPL_CODE_298', 'ORISPL_CODE_3439', 'ORISPL_CODE_3441',\n",
      "       ...\n",
      "       'UNITID_U5', 'UNITID_U6', 'UNITID_WAP1', 'UNITID_WAP2', 'UNITID_WAP3',\n",
      "       'UNITID_WAP4', 'UNITID_WAP5', 'UNITID_WAP6', 'UNITID_WAP7',\n",
      "       'UNITID_WAP8'],\n",
      "      dtype='object', length=283)\n"
     ]
    }
   ],
   "source": [
    "d = df.loc[df.OP_HOUR ==1]\n",
    "d = pd.get_dummies(d, columns=['ORISPL_CODE', 'UNITID'])\n",
    "print(d.columns)\n",
    "X = d.drop('CO2_RATE (tons/mmBtu)', axis=1).to_numpy()\n",
    "y = d['CO2_RATE (tons/mmBtu)'].to_numpy()\n",
    "\n",
    "#split into train and test\n",
    "X_train, X_test, y_train, y_test = train_test_split(X, y, test_size=0.3, random_state=42)"
   ]
  },
  {
   "cell_type": "markdown",
   "metadata": {},
   "source": [
    "## Make Model Flat"
   ]
  },
  {
   "cell_type": "code",
   "execution_count": 34,
   "metadata": {},
   "outputs": [],
   "source": [
    "model = LinearRegression()\n",
    "model.fit(X_train, y_train)\n",
    "pred = model.predict(X_test)"
   ]
  },
  {
   "cell_type": "code",
   "execution_count": 35,
   "metadata": {},
   "outputs": [
    {
     "data": {
      "text/plain": [
       "array([-5.62062948e-16,  1.16742475e-05,  3.97126439e-03,  2.50369864e-02,\n",
       "       -2.93773117e-07,  2.99553834e-02,  2.21287884e-02, -4.68927802e-03,\n",
       "       -2.77810810e-03, -2.72896704e-03, -7.24662434e-03, -2.07713123e-03,\n",
       "       -8.90401425e-03, -5.56402130e-03, -8.19367377e-03, -3.53967529e-03,\n",
       "        9.91833156e-03, -7.37213356e-03, -8.93719333e-03, -6.75836754e-03,\n",
       "       -4.90591340e-03, -4.53774873e-03, -6.55023902e-03, -8.16037104e-03,\n",
       "       -5.89062974e-03, -6.67167367e-03, -3.91359447e-03, -7.65693904e-03,\n",
       "       -2.42061519e-03, -6.64030093e-03, -2.28417215e-03, -1.96551089e-03,\n",
       "       -8.15434467e-03, -7.97889072e-03, -6.81330286e-03, -6.13648857e-04,\n",
       "       -6.39572119e-03, -6.32118570e-03, -2.51792763e-03, -6.75188927e-03,\n",
       "        3.28715402e-02,  3.53830921e-02,  3.36257385e-02,  3.48759974e-02,\n",
       "        3.55484904e-02,  1.79454374e-02,  2.21795991e-02,  1.96107902e-02,\n",
       "       -6.20778072e-03,  3.61989437e-02,  2.30735423e-02, -2.92744355e-03,\n",
       "       -2.84755573e-03, -3.54421757e-03,  3.64661567e-02, -3.85731225e-03,\n",
       "       -4.54495672e-03, -3.63049248e-03, -4.56015681e-03, -8.15791041e-03,\n",
       "       -2.74245068e-03, -5.63146901e-03, -4.61137720e-03, -7.28756558e-03,\n",
       "       -3.72130959e-03, -6.91226825e-03, -3.75694861e-03, -4.31741175e-03,\n",
       "       -7.55922986e-03, -7.00291154e-03, -2.60215083e-03,  2.38627059e-03,\n",
       "       -3.99835494e-03, -4.57409455e-03, -3.01186179e-03, -2.85529260e-03,\n",
       "       -4.42338100e-03, -3.39302649e-03, -6.01551846e-03, -3.86620636e-03,\n",
       "       -2.22424874e-03, -6.09246497e-03, -4.81006389e-03, -4.12556252e-03,\n",
       "       -3.95004789e-03, -3.39070058e-03, -3.81461933e-03, -3.29494460e-03,\n",
       "       -2.88450176e-03, -3.01008732e-03, -2.87311964e-03, -2.71742926e-03,\n",
       "       -2.95760873e-03, -1.28564194e-03, -1.94587917e-03, -2.41822798e-03,\n",
       "       -1.08143640e-02, -2.54265019e-03,  1.94870579e-02, -3.78320478e-03,\n",
       "       -3.12616098e-03, -2.98633177e-03, -3.00930499e-03, -2.99670410e-03,\n",
       "        1.82659178e-02, -4.34219951e-03, -3.09406301e-03, -5.94677335e-03,\n",
       "       -2.59537241e-03, -2.62553031e-03, -2.06038010e-03, -2.84888345e-03,\n",
       "       -6.76699963e-04, -5.43113083e-03, -4.77652387e-03, -2.41002723e-03,\n",
       "       -1.26461764e-03, -1.35367575e-03, -2.62323677e-03, -9.34931411e-04,\n",
       "       -1.38870045e-03,  1.08766975e-02,  1.21968448e-02,  2.19957159e-04,\n",
       "        7.71577334e-04, -1.85492149e-03, -1.86638809e-03,  5.13111918e-03,\n",
       "        8.26966887e-03,  8.77881104e-03,  8.50137550e-04, -1.78696719e-03,\n",
       "       -1.96998142e-03, -7.76539239e-03,  1.43304047e-03,  3.02650421e-04,\n",
       "       -5.20537524e-04, -9.46816833e-04, -1.53174046e-03, -2.05919144e-03,\n",
       "       -2.06963061e-03, -1.59314938e-03, -5.80083313e-04, -6.63050094e-04,\n",
       "        9.41919620e-03,  1.01915940e-02,  1.18595877e-03,  1.28587167e-03,\n",
       "        1.05705755e-03,  2.23808269e-03, -2.22550721e-03, -1.48714365e-03,\n",
       "       -1.49340452e-03, -1.56440855e-03, -3.88966467e-03, -2.67481677e-03,\n",
       "       -2.70781220e-03,  2.08166817e-17,  1.38777878e-17, -2.41002723e-03,\n",
       "        1.94870579e-02, -1.03642285e-03,  8.73305210e-04, -1.72116902e-03,\n",
       "       -1.81850627e-03, -1.52639376e-03, -1.56766926e-03, -2.25749755e-03,\n",
       "       -1.28698356e-03, -1.71386217e-03, -1.61053146e-03, -2.25124778e-03,\n",
       "       -2.21078176e-03, -5.20417043e-18, -1.45798023e-03, -1.47663196e-03,\n",
       "        2.74551881e-03,  4.05966288e-03,  4.50964683e-03, -1.21822477e-03,\n",
       "       -1.20083832e-03, -1.21312548e-03, -1.17787532e-03, -2.35695544e-03,\n",
       "       -2.31121061e-03, -2.04548386e-03, -1.94810577e-03,  2.33935803e-03,\n",
       "        2.24574907e-03, -2.63304756e-03, -1.47761362e-03, -1.58656694e-03,\n",
       "       -2.62496782e-03, -1.51062689e-03, -1.53768532e-03, -2.63740541e-03,\n",
       "       -2.62734997e-03, -1.89464687e-03, -1.86432766e-03, -1.63119820e-03,\n",
       "       -2.92875918e-03, -1.92109664e-03, -1.94510972e-03, -2.56128785e-03,\n",
       "       -2.70679690e-03, -2.69324835e-03, -3.20599866e-03, -3.17766434e-03,\n",
       "       -3.07781849e-03, -3.12662660e-03, -3.03589742e-03, -2.06038010e-03,\n",
       "       -2.17667445e-03, -1.94888807e-03, -2.74245068e-03, -6.63377480e-04,\n",
       "       -6.37605631e-04, -6.54772295e-04, -5.41855217e-04, -4.79473352e-04,\n",
       "       -6.53408508e-04, -2.41822798e-03, -1.27980456e-03, -1.32433135e-03,\n",
       "       -1.17906887e-03, -3.35710931e-03, -3.38778808e-03, -3.15274024e-03,\n",
       "       -3.23239110e-03,  4.41673722e-03,  4.54443649e-03, -2.85799751e-03,\n",
       "       -8.48770940e-04, -8.53388365e-04, -2.50694830e-03, -2.55639886e-03,\n",
       "       -2.50524536e-03, -2.48024685e-03, -1.48507194e-03, -1.51163216e-03,\n",
       "       -3.40478699e-03, -3.30008098e-03,  1.14435961e-02,  1.06851922e-02,\n",
       "       -1.49001212e-03, -1.54372209e-03, -1.54036034e-03,  1.82659178e-02,\n",
       "       -1.29449062e-03, -1.30766021e-03, -4.09807196e-04, -5.43457545e-04,\n",
       "       -1.50836957e-04, -2.41768329e-04, -1.64106452e-03, -4.27918709e-04,\n",
       "       -1.29364312e-04, -1.39549277e-03, -1.61381222e-03, -1.42010982e-03,\n",
       "       -1.50733373e-03,  1.79454374e-02, -1.29888432e-03, -1.32460009e-03,\n",
       "       -1.38521232e-03, -1.48880247e-03, -1.58355224e-03, -1.65974130e-03,\n",
       "        4.16786481e-03,  4.28106218e-03,  4.22538750e-03,  4.23006616e-03,\n",
       "        4.26468503e-03,  4.21551399e-03, -1.63254715e-02, -1.56104633e-02,\n",
       "       -1.58488988e-02, -1.64774321e-02,  2.57306662e-02,  2.57401680e-02,\n",
       "        2.45818495e-02, -1.87208641e-03])"
      ]
     },
     "execution_count": 35,
     "metadata": {},
     "output_type": "execute_result"
    }
   ],
   "source": [
    "model.coef_"
   ]
  },
  {
   "cell_type": "markdown",
   "metadata": {},
   "source": [
    "## Make Model Score"
   ]
  },
  {
   "cell_type": "code",
   "execution_count": 36,
   "metadata": {},
   "outputs": [
    {
     "name": "stdout",
     "output_type": "stream",
     "text": [
      "Mean squared error: 0.000014\n"
     ]
    }
   ],
   "source": [
    "print(\"Mean squared error: %.6f\" % mean_squared_error(y_test, pred))"
   ]
  },
  {
   "cell_type": "code",
   "execution_count": 38,
   "metadata": {},
   "outputs": [
    {
     "data": {
      "text/plain": [
       "(-0.02, 0.02)"
      ]
     },
     "execution_count": 38,
     "metadata": {},
     "output_type": "execute_result"
    },
    {
     "data": {
      "image/png": "[encoded data removed]",
      "text/plain": [
       "<Figure size 432x288 with 1 Axes>"
      ]
     },
     "metadata": {
      "needs_background": "light"
     },
     "output_type": "display_data"
    }
   ],
   "source": [
    "sns.histplot(pred-y_test)\n",
    "plt.title(\"Histogram of Residuals\")\n",
    "plt.xlabel(\"Residuals\")\n",
    "plt.xlim(-0.02, 0.02)"
   ]
  },
  {
   "cell_type": "code",
   "execution_count": 39,
   "metadata": {},
   "outputs": [
    {
     "data": {
      "text/plain": [
       "Text(0.5, 1.0, 'CO2_RATE (tons/mmBtu) Distribution')"
      ]
     },
     "execution_count": 39,
     "metadata": {},
     "output_type": "execute_result"
    },
    {
     "data": {
      "image/png": "[encoded data removed]",
      "text/plain": [
       "<Figure size 432x288 with 1 Axes>"
      ]
     },
     "metadata": {
      "needs_background": "light"
     },
     "output_type": "display_data"
    }
   ],
   "source": [
    "sns.histplot(y_test, kde=True)\n",
    "plt.title(\"CO2_RATE (tons/mmBtu) Distribution\")"
   ]
  },
  {
   "cell_type": "code",
   "execution_count": 40,
   "metadata": {},
   "outputs": [
    {
     "name": "stderr",
     "output_type": "stream",
     "text": [
      "/opt/anaconda3/envs/science/lib/python3.9/site-packages/seaborn/_decorators.py:36: FutureWarning: Pass the following variables as keyword args: x, y. From version 0.12, the only valid positional argument will be `data`, and passing other arguments without an explicit keyword will result in an error or misinterpretation.\n",
      "  warnings.warn(\n",
      "/var/folders/dj/7rxcfclj40n7c9yj3nbllqy00000gn/T/ipykernel_13150/2103072131.py:3: MatplotlibDeprecationWarning: savefig() got unexpected keyword argument \"background\" which is no longer supported as of 3.3 and will become an error in 3.6\n",
      "  plt.savefig(\"CO2_LinReg.png\", background=\"white\")\n"
     ]
    },
    {
     "data": {
      "image/png": "[encoded data removed]",
      "text/plain": [
       "<Figure size 432x288 with 1 Axes>"
      ]
     },
     "metadata": {
      "needs_background": "light"
     },
     "output_type": "display_data"
    }
   ],
   "source": [
    "sns.scatterplot(y_test, pred)\n",
    "plt.title(\"Predicted vs Actual\")\n",
    "plt.savefig(\"CO2_LinReg.png\", background=\"white\")"
   ]
  },
  {
   "cell_type": "code",
   "execution_count": null,
   "metadata": {},
   "outputs": [],
   "source": []
  }
 ],
 "metadata": {
  "kernelspec": {
   "display_name": "Python 3.9.12 ('science')",
   "language": "python",
   "name": "python3"
  },
  "language_info": {
   "codemirror_mode": {
    "name": "ipython",
    "version": 3
   },
   "file_extension": ".py",
   "mimetype": "text/x-python",
   "name": "python",
   "nbconvert_exporter": "python",
   "pygments_lexer": "ipython3",
   "version": "3.9.12"
  },
  "orig_nbformat": 4,
  "vscode": {
   "interpreter": {
    "hash": "f481d707f485e5e545fcbec8e23552587d82164162b1e7024dc6dabd3ca7d616"
   }
  }
 },
 "nbformat": 4,
 "nbformat_minor": 2
}
