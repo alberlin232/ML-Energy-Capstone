{
 "cells": [
  {
   "cell_type": "code",
   "execution_count": 2,
   "metadata": {},
   "outputs": [],
   "source": [
    "import glob\n",
    "import os\n",
    "import pandas as pd\n",
    "import numpy as np\n",
    "import matplotlib.pyplot as plt\n",
    "import seaborn as sns\n",
    "import stan\n",
    "from sklearn.model_selection import train_test_split\n",
    "import nest_asyncio\n",
    "nest_asyncio.apply()"
   ]
  },
  {
   "cell_type": "markdown",
   "metadata": {},
   "source": [
    "## Join All Hourly Data"
   ]
  },
  {
   "cell_type": "code",
   "execution_count": 6,
   "metadata": {},
   "outputs": [
    {
     "name": "stdout",
     "output_type": "stream",
     "text": [
      "Resultant CSV after joining all CSV files at a particular location...\n"
     ]
    }
   ],
   "source": [
    "# setting the path for joining multiple files\n",
    "files = os.path.join(\"../data/epa/TXHOURLY\", \"*tx*.csv\")\n",
    "\n",
    "# list of merged files returned\n",
    "files = glob.glob(files)\n",
    "\n",
    "print(\"Resultant CSV after joining all CSV files at a particular location...\");\n",
    "\n",
    "# joining files with concat and read_csv\n",
    "df = pd.concat(map(pd.read_csv, files), ignore_index=True)\n",
    "cols = ['ORISPL_CODE', 'UNITID', 'OP_HOUR', 'GLOAD (MW)', 'SO2_RATE (lbs/mmBtu)',\n",
    "       'NOX_RATE (lbs/mmBtu)', 'CO2_RATE (tons/mmBtu)', 'HEAT_INPUT (mmBtu)']\n",
    "df = df[cols]\n",
    "df.dropna(inplace=True)\n"
   ]
  },
  {
   "cell_type": "markdown",
   "metadata": {},
   "source": [
    "## Stan Code"
   ]
  },
  {
   "cell_type": "code",
   "execution_count": 4,
   "metadata": {},
   "outputs": [],
   "source": [
    "co2_model = \"\"\"\n",
    "data {\n",
    "  int<lower=0> N;   // number of data items\n",
    "  int<lower=0> K;   // number of predictors\n",
    "  matrix[N, K] x;   // predictor matrix\n",
    "  vector[N] y;      // outcome vector\n",
    "}\n",
    "parameters {\n",
    "  real alpha;           // intercept\n",
    "  vector[K] beta;       // coefficients for predictors\n",
    "  real<lower=0> sigma;  // error scale\n",
    "}\n",
    "model {\n",
    "  alpha ~ normal(0, 10);      // prior for intercept\n",
    "  beta ~ normal(0, 10);       // prior for coefficients\n",
    "  sigma ~ cauchy(0, 5);       // prior for error scale\n",
    "  y ~ normal(x * beta + alpha, sigma);  // likelihood\n",
    "}\n",
    "\"\"\""
   ]
  },
  {
   "cell_type": "code",
   "execution_count": 9,
   "metadata": {},
   "outputs": [],
   "source": [
    "d = df.loc[df.OP_HOUR ==1]\n",
    "d = pd.get_dummies(d, columns=['ORISPL_CODE', 'UNITID'])\n",
    "X = d.drop('CO2_RATE (tons/mmBtu)', axis=1).to_numpy()\n",
    "y = d['CO2_RATE (tons/mmBtu)'].to_numpy()\n",
    "\n",
    "#split into train and test\n",
    "X_train, X_test, y_train, y_test = train_test_split(X, y, test_size=0.4, random_state=42)"
   ]
  },
  {
   "cell_type": "code",
   "execution_count": 10,
   "metadata": {},
   "outputs": [],
   "source": [
    "N = X_train.shape[0]\n",
    "K = X_train.shape[1]"
   ]
  },
  {
   "cell_type": "code",
   "execution_count": 11,
   "metadata": {},
   "outputs": [],
   "source": [
    "epa_data = {\"N\": N,\n",
    "                \"K\": K,\n",
    "                \"x\": X_train,\n",
    "                \"y\": y_train}"
   ]
  },
  {
   "cell_type": "code",
   "execution_count": 12,
   "metadata": {},
   "outputs": [
    {
     "name": "stdout",
     "output_type": "stream",
     "text": [
      "Building...\n"
     ]
    },
    {
     "name": "stderr",
     "output_type": "stream",
     "text": [
      "\n",
      "Building: found in cache, done.Sampling:   0%\n",
      "Sampling:   0% (1/1100)"
     ]
    }
   ],
   "source": [
    "posterior = stan.build(co2_model, data=epa_data)\n",
    "fit = posterior.sample(num_chains=1, num_samples=100)"
   ]
  },
  {
   "cell_type": "code",
   "execution_count": 136,
   "metadata": {},
   "outputs": [],
   "source": [
    "vars = fit.to_frame().mean()"
   ]
  },
  {
   "cell_type": "code",
   "execution_count": 137,
   "metadata": {},
   "outputs": [
    {
     "data": {
      "text/plain": [
       "parameters\n",
       "lp__            -124801.106252\n",
       "accept_stat__         0.950406\n",
       "stepsize__            0.022640\n",
       "treedepth__           6.510000\n",
       "n_leapfrog__        121.080000\n",
       "divergent__           0.000000\n",
       "energy__         124805.101711\n",
       "alpha               -43.981856\n",
       "beta.1               -0.046093\n",
       "beta.2                0.014172\n",
       "beta.3               26.617624\n",
       "beta.4               45.090966\n",
       "beta.5                0.100914\n",
       "beta.6                0.096189\n",
       "sigma                27.815977\n",
       "dtype: float64"
      ]
     },
     "execution_count": 137,
     "metadata": {},
     "output_type": "execute_result"
    }
   ],
   "source": [
    "vars"
   ]
  },
  {
   "cell_type": "code",
   "execution_count": 138,
   "metadata": {},
   "outputs": [],
   "source": [
    "alpha = vars[\"alpha\"]\n",
    "B = vars[8:14]\n",
    "sigma = vars[\"sigma\"]\n",
    "\n",
    "def predict(alpha, B, X, sigma):\n",
    "    return alpha + np.dot(X, B) + np.random.normal(0, sigma)\n"
   ]
  },
  {
   "cell_type": "code",
   "execution_count": 139,
   "metadata": {},
   "outputs": [],
   "source": [
    "pred = predict(alpha, B, X_test, sigma)\n"
   ]
  },
  {
   "cell_type": "code",
   "execution_count": 148,
   "metadata": {},
   "outputs": [],
   "source": [
    "#calculate mean squared error\n",
    "mse = np.mean((pred - y_test)**2)"
   ]
  },
  {
   "cell_type": "code",
   "execution_count": 149,
   "metadata": {},
   "outputs": [
    {
     "data": {
      "text/plain": [
       "764.6305609390657"
      ]
     },
     "execution_count": 149,
     "metadata": {},
     "output_type": "execute_result"
    }
   ],
   "source": [
    "mse"
   ]
  },
  {
   "cell_type": "code",
   "execution_count": 152,
   "metadata": {},
   "outputs": [
    {
     "data": {
      "text/plain": [
       "Text(0.5, 1.0, 'Histogram of Residuals')"
      ]
     },
     "execution_count": 152,
     "metadata": {},
     "output_type": "execute_result"
    },
    {
     "data": {
      "image/png": "[encoded data removed]",
      "text/plain": [
       "<Figure size 432x288 with 1 Axes>"
      ]
     },
     "metadata": {
      "needs_background": "light"
     },
     "output_type": "display_data"
    }
   ],
   "source": [
    "sns.histplot(pred-y_test)\n",
    "plt.title(\"Histogram of Residuals\")"
   ]
  },
  {
   "cell_type": "code",
   "execution_count": 151,
   "metadata": {},
   "outputs": [
    {
     "data": {
      "text/plain": [
       "Text(0.5, 1.0, 'CO2_RATE (tons/mmBtu) Distribution')"
      ]
     },
     "execution_count": 151,
     "metadata": {},
     "output_type": "execute_result"
    },
    {
     "data": {
      "image/png": "[encoded data removed]",
      "text/plain": [
       "<Figure size 432x288 with 1 Axes>"
      ]
     },
     "metadata": {
      "needs_background": "light"
     },
     "output_type": "display_data"
    }
   ],
   "source": [
    "sns.histplot(y_test, kde=True)\n",
    "plt.title(\"CO2_RATE (tons/mmBtu) Distribution\")"
   ]
  },
  {
   "cell_type": "code",
   "execution_count": 154,
   "metadata": {},
   "outputs": [
    {
     "name": "stderr",
     "output_type": "stream",
     "text": [
      "/opt/anaconda3/envs/science/lib/python3.9/site-packages/seaborn/_decorators.py:36: FutureWarning: Pass the following variables as keyword args: x, y. From version 0.12, the only valid positional argument will be `data`, and passing other arguments without an explicit keyword will result in an error or misinterpretation.\n",
      "  warnings.warn(\n"
     ]
    },
    {
     "data": {
      "text/plain": [
       "Text(0.5, 1.0, 'Predicted vs Actual')"
      ]
     },
     "execution_count": 154,
     "metadata": {},
     "output_type": "execute_result"
    },
    {
     "data": {
      "image/png": "[encoded data removed]",
      "text/plain": [
       "<Figure size 432x288 with 1 Axes>"
      ]
     },
     "metadata": {
      "needs_background": "light"
     },
     "output_type": "display_data"
    }
   ],
   "source": [
    "sns.scatterplot(y_test, pred)\n",
    "plt.title(\"Predicted vs Actual\")"
   ]
  },
  {
   "cell_type": "code",
   "execution_count": null,
   "metadata": {},
   "outputs": [],
   "source": []
  }
 ],
 "metadata": {
  "kernelspec": {
   "display_name": "Python 3.9.12 ('science')",
   "language": "python",
   "name": "python3"
  },
  "language_info": {
   "codemirror_mode": {
    "name": "ipython",
    "version": 3
   },
   "file_extension": ".py",
   "mimetype": "text/x-python",
   "name": "python",
   "nbconvert_exporter": "python",
   "pygments_lexer": "ipython3",
   "version": "3.9.12"
  },
  "orig_nbformat": 4,
  "vscode": {
   "interpreter": {
    "hash": "f481d707f485e5e545fcbec8e23552587d82164162b1e7024dc6dabd3ca7d616"
   }
  }
 },
 "nbformat": 4,
 "nbformat_minor": 2
}
